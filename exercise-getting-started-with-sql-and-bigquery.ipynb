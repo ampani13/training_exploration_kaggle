{
 "cells": [
  {
   "cell_type": "markdown",
   "metadata": {},
   "source": [
    "**[SQL Home Page](https://www.kaggle.com/learn/intro-to-sql)**\n",
    "\n",
    "---\n"
   ]
  },
  {
   "cell_type": "markdown",
   "metadata": {},
   "source": [
    "# Introduction\n",
    "\n",
    "The first test of your new data exploration skills uses data describing crime in the city of Chicago.\n",
    "\n",
    "Before you get started, run the following cell. It sets up the automated feedback system to review your answers."
   ]
  },
  {
   "cell_type": "code",
   "execution_count": 1,
   "metadata": {
    "execution": {
     "iopub.execute_input": "2025-07-25T06:40:23.017266Z",
     "iopub.status.busy": "2025-07-25T06:40:23.016809Z",
     "iopub.status.idle": "2025-07-25T06:40:23.023481Z",
     "shell.execute_reply": "2025-07-25T06:40:23.022177Z",
     "shell.execute_reply.started": "2025-07-25T06:40:23.017204Z"
    }
   },
   "outputs": [
    {
     "name": "stdout",
     "output_type": "stream",
     "text": [
      "Using Kaggle's public dataset BigQuery integration.\n",
      "Setup Complete\n"
     ]
    }
   ],
   "source": [
    "# Set up feedack system\n",
    "from learntools.core import binder\n",
    "binder.bind(globals())\n",
    "from learntools.sql.ex1 import *\n",
    "print(\"Setup Complete\")"
   ]
  },
  {
   "cell_type": "markdown",
   "metadata": {},
   "source": [
    "Use the next code cell to fetch the dataset."
   ]
  },
  {
   "cell_type": "code",
   "execution_count": 2,
   "metadata": {
    "execution": {
     "iopub.execute_input": "2025-07-25T06:40:26.028014Z",
     "iopub.status.busy": "2025-07-25T06:40:26.027661Z",
     "iopub.status.idle": "2025-07-25T06:40:26.349829Z",
     "shell.execute_reply": "2025-07-25T06:40:26.348893Z",
     "shell.execute_reply.started": "2025-07-25T06:40:26.027951Z"
    }
   },
   "outputs": [
    {
     "name": "stdout",
     "output_type": "stream",
     "text": [
      "Using Kaggle's public dataset BigQuery integration.\n"
     ]
    }
   ],
   "source": [
    "from google.cloud import bigquery\n",
    "\n",
    "# Create a \"Client\" object\n",
    "client = bigquery.Client()\n",
    "\n",
    "# Construct a reference to the \"chicago_crime\" dataset\n",
    "dataset_ref = client.dataset(\"chicago_crime\", project=\"bigquery-public-data\")\n",
    "\n",
    "# API request - fetch the dataset\n",
    "dataset = client.get_dataset(dataset_ref)"
   ]
  },
  {
   "cell_type": "markdown",
   "metadata": {},
   "source": [
    "# Exercises\n",
    "\n",
    "### 1) Count tables in the dataset\n",
    "\n",
    "How many tables are in the Chicago Crime dataset?"
   ]
  },
  {
   "cell_type": "code",
   "execution_count": 3,
   "metadata": {
    "execution": {
     "iopub.execute_input": "2025-07-25T06:40:28.832213Z",
     "iopub.status.busy": "2025-07-25T06:40:28.831804Z",
     "iopub.status.idle": "2025-07-25T06:40:29.052185Z",
     "shell.execute_reply": "2025-07-25T06:40:29.051360Z",
     "shell.execute_reply.started": "2025-07-25T06:40:28.832148Z"
    }
   },
   "outputs": [
    {
     "data": {
      "text/plain": [
       "1"
      ]
     },
     "execution_count": 3,
     "metadata": {},
     "output_type": "execute_result"
    }
   ],
   "source": [
    "# Write the code you need here to figure out the answer\n",
    "len(list(client.list_tables(dataset)))"
   ]
  },
  {
   "cell_type": "code",
   "execution_count": 4,
   "metadata": {
    "execution": {
     "iopub.execute_input": "2025-07-25T06:40:29.502840Z",
     "iopub.status.busy": "2025-07-25T06:40:29.502548Z",
     "iopub.status.idle": "2025-07-25T06:40:29.733393Z",
     "shell.execute_reply": "2025-07-25T06:40:29.732517Z",
     "shell.execute_reply.started": "2025-07-25T06:40:29.502793Z"
    }
   },
   "outputs": [
    {
     "data": {
      "application/javascript": [
       "parent.postMessage({\"jupyterEvent\": \"custom.exercise_interaction\", \"data\": {\"outcomeType\": 1, \"valueTowardsCompletion\": 0.3333333333333333, \"interactionType\": 1, \"questionType\": 1, \"questionId\": \"1_CountTables\", \"learnToolsVersion\": \"0.3.4\", \"failureMessage\": \"\", \"exceptionClass\": \"\", \"trace\": \"\"}}, \"*\")"
      ],
      "text/plain": [
       "<IPython.core.display.Javascript object>"
      ]
     },
     "metadata": {},
     "output_type": "display_data"
    },
    {
     "data": {
      "text/markdown": [
       "<span style=\"color:#33cc33\">Correct</span>"
      ],
      "text/plain": [
       "Correct"
      ]
     },
     "metadata": {},
     "output_type": "display_data"
    }
   ],
   "source": [
    "num_tables = len(list(client.list_tables(dataset))) # Store the answer as num_tables and then run this cell\n",
    "\n",
    "q_1.check()"
   ]
  },
  {
   "cell_type": "markdown",
   "metadata": {},
   "source": [
    "For a hint or the solution, uncomment the appropriate line below."
   ]
  },
  {
   "cell_type": "code",
   "execution_count": 5,
   "metadata": {
    "execution": {
     "iopub.execute_input": "2025-07-25T06:40:34.109684Z",
     "iopub.status.busy": "2025-07-25T06:40:34.109371Z",
     "iopub.status.idle": "2025-07-25T06:40:34.120559Z",
     "shell.execute_reply": "2025-07-25T06:40:34.119307Z",
     "shell.execute_reply.started": "2025-07-25T06:40:34.109637Z"
    }
   },
   "outputs": [
    {
     "data": {
      "application/javascript": [
       "parent.postMessage({\"jupyterEvent\": \"custom.exercise_interaction\", \"data\": {\"interactionType\": 2, \"questionType\": 1, \"questionId\": \"1_CountTables\", \"learnToolsVersion\": \"0.3.4\", \"valueTowardsCompletion\": 0.0, \"failureMessage\": \"\", \"exceptionClass\": \"\", \"trace\": \"\", \"outcomeType\": 4}}, \"*\")"
      ],
      "text/plain": [
       "<IPython.core.display.Javascript object>"
      ]
     },
     "metadata": {},
     "output_type": "display_data"
    },
    {
     "data": {
      "text/markdown": [
       "<span style=\"color:#3366cc\">Hint:</span> Use the `list_tables()` method to get a list of the tables in the dataset."
      ],
      "text/plain": [
       "Hint: Use the `list_tables()` method to get a list of the tables in the dataset."
      ]
     },
     "metadata": {},
     "output_type": "display_data"
    },
    {
     "data": {
      "application/javascript": [
       "parent.postMessage({\"jupyterEvent\": \"custom.exercise_interaction\", \"data\": {\"interactionType\": 3, \"questionType\": 1, \"questionId\": \"1_CountTables\", \"learnToolsVersion\": \"0.3.4\", \"valueTowardsCompletion\": 0.0, \"failureMessage\": \"\", \"exceptionClass\": \"\", \"trace\": \"\", \"outcomeType\": 4}}, \"*\")"
      ],
      "text/plain": [
       "<IPython.core.display.Javascript object>"
      ]
     },
     "metadata": {},
     "output_type": "display_data"
    },
    {
     "data": {
      "text/markdown": [
       "<span style=\"color:#33cc99\">Solution:</span> \n",
       "```python\n",
       "\n",
       "# List all the tables in the \"chicago_crime\" dataset\n",
       "tables = list(client.list_tables(dataset))\n",
       "\n",
       "# Print number of tables in the dataset\n",
       "print(len(tables))\n",
       "\n",
       "num_tables = 1\n",
       "\n",
       "```"
      ],
      "text/plain": [
       "Solution: \n",
       "```python\n",
       "\n",
       "# List all the tables in the \"chicago_crime\" dataset\n",
       "tables = list(client.list_tables(dataset))\n",
       "\n",
       "# Print number of tables in the dataset\n",
       "print(len(tables))\n",
       "\n",
       "num_tables = 1\n",
       "\n",
       "```"
      ]
     },
     "metadata": {},
     "output_type": "display_data"
    }
   ],
   "source": [
    "q_1.hint()\n",
    "q_1.solution()"
   ]
  },
  {
   "cell_type": "markdown",
   "metadata": {},
   "source": [
    "### 2) Explore the table schema\n",
    "\n",
    "How many columns in the `crime` table have `TIMESTAMP` data?"
   ]
  },
  {
   "cell_type": "code",
   "execution_count": 6,
   "metadata": {
    "execution": {
     "iopub.execute_input": "2025-07-25T06:40:36.514861Z",
     "iopub.status.busy": "2025-07-25T06:40:36.514559Z",
     "iopub.status.idle": "2025-07-25T06:40:36.772671Z",
     "shell.execute_reply": "2025-07-25T06:40:36.771015Z",
     "shell.execute_reply.started": "2025-07-25T06:40:36.514813Z"
    }
   },
   "outputs": [
    {
     "data": {
      "text/plain": [
       "[SchemaField('unique_key', 'INTEGER', 'REQUIRED', None, ()),\n",
       " SchemaField('case_number', 'STRING', 'NULLABLE', None, ()),\n",
       " SchemaField('date', 'TIMESTAMP', 'NULLABLE', None, ()),\n",
       " SchemaField('block', 'STRING', 'NULLABLE', None, ()),\n",
       " SchemaField('iucr', 'STRING', 'NULLABLE', None, ()),\n",
       " SchemaField('primary_type', 'STRING', 'NULLABLE', None, ()),\n",
       " SchemaField('description', 'STRING', 'NULLABLE', None, ()),\n",
       " SchemaField('location_description', 'STRING', 'NULLABLE', None, ()),\n",
       " SchemaField('arrest', 'BOOLEAN', 'NULLABLE', None, ()),\n",
       " SchemaField('domestic', 'BOOLEAN', 'NULLABLE', None, ()),\n",
       " SchemaField('beat', 'INTEGER', 'NULLABLE', None, ()),\n",
       " SchemaField('district', 'INTEGER', 'NULLABLE', None, ()),\n",
       " SchemaField('ward', 'INTEGER', 'NULLABLE', None, ()),\n",
       " SchemaField('community_area', 'INTEGER', 'NULLABLE', None, ()),\n",
       " SchemaField('fbi_code', 'STRING', 'NULLABLE', None, ()),\n",
       " SchemaField('x_coordinate', 'FLOAT', 'NULLABLE', None, ()),\n",
       " SchemaField('y_coordinate', 'FLOAT', 'NULLABLE', None, ()),\n",
       " SchemaField('year', 'INTEGER', 'NULLABLE', None, ()),\n",
       " SchemaField('updated_on', 'TIMESTAMP', 'NULLABLE', None, ()),\n",
       " SchemaField('latitude', 'FLOAT', 'NULLABLE', None, ()),\n",
       " SchemaField('longitude', 'FLOAT', 'NULLABLE', None, ()),\n",
       " SchemaField('location', 'STRING', 'NULLABLE', None, ())]"
      ]
     },
     "execution_count": 6,
     "metadata": {},
     "output_type": "execute_result"
    }
   ],
   "source": [
    "# Write the code to figure out the answer\n",
    "table_ref = dataset_ref.table(\"crime\")\n",
    "table = client.get_table(table_ref)\n",
    "table.schema"
   ]
  },
  {
   "cell_type": "code",
   "execution_count": 7,
   "metadata": {
    "execution": {
     "iopub.execute_input": "2025-07-25T06:40:37.157628Z",
     "iopub.status.busy": "2025-07-25T06:40:37.157327Z",
     "iopub.status.idle": "2025-07-25T06:40:37.164493Z",
     "shell.execute_reply": "2025-07-25T06:40:37.163760Z",
     "shell.execute_reply.started": "2025-07-25T06:40:37.157582Z"
    }
   },
   "outputs": [
    {
     "data": {
      "application/javascript": [
       "parent.postMessage({\"jupyterEvent\": \"custom.exercise_interaction\", \"data\": {\"outcomeType\": 1, \"valueTowardsCompletion\": 0.3333333333333333, \"interactionType\": 1, \"questionType\": 1, \"questionId\": \"2_CountTimestampFields\", \"learnToolsVersion\": \"0.3.4\", \"failureMessage\": \"\", \"exceptionClass\": \"\", \"trace\": \"\"}}, \"*\")"
      ],
      "text/plain": [
       "<IPython.core.display.Javascript object>"
      ]
     },
     "metadata": {},
     "output_type": "display_data"
    },
    {
     "data": {
      "text/markdown": [
       "<span style=\"color:#33cc33\">Correct</span>"
      ],
      "text/plain": [
       "Correct"
      ]
     },
     "metadata": {},
     "output_type": "display_data"
    }
   ],
   "source": [
    "num_timestamp_fields = 2 # Put your answer here\n",
    "\n",
    "q_2.check()"
   ]
  },
  {
   "cell_type": "markdown",
   "metadata": {},
   "source": [
    "For a hint or the solution, uncomment the appropriate line below."
   ]
  },
  {
   "cell_type": "code",
   "execution_count": 8,
   "metadata": {
    "execution": {
     "iopub.execute_input": "2025-07-25T06:40:44.318323Z",
     "iopub.status.busy": "2025-07-25T06:40:44.317984Z",
     "iopub.status.idle": "2025-07-25T06:40:44.321524Z",
     "shell.execute_reply": "2025-07-25T06:40:44.320594Z",
     "shell.execute_reply.started": "2025-07-25T06:40:44.318260Z"
    }
   },
   "outputs": [],
   "source": [
    "#q_2.hint()\n",
    "#q_2.solution()"
   ]
  },
  {
   "cell_type": "markdown",
   "metadata": {},
   "source": [
    "### 3) Create a crime map\n",
    "\n",
    "If you wanted to create a map with a dot at the location of each crime, what are the names of the two fields you likely need to pull out of the `crime` table to plot the crimes on a map?"
   ]
  },
  {
   "cell_type": "code",
   "execution_count": 9,
   "metadata": {
    "execution": {
     "iopub.execute_input": "2025-07-25T06:40:46.943556Z",
     "iopub.status.busy": "2025-07-25T06:40:46.943222Z",
     "iopub.status.idle": "2025-07-25T06:40:46.950282Z",
     "shell.execute_reply": "2025-07-25T06:40:46.948987Z",
     "shell.execute_reply.started": "2025-07-25T06:40:46.943506Z"
    }
   },
   "outputs": [
    {
     "data": {
      "text/plain": [
       "[SchemaField('unique_key', 'INTEGER', 'REQUIRED', None, ()),\n",
       " SchemaField('case_number', 'STRING', 'NULLABLE', None, ()),\n",
       " SchemaField('date', 'TIMESTAMP', 'NULLABLE', None, ()),\n",
       " SchemaField('block', 'STRING', 'NULLABLE', None, ()),\n",
       " SchemaField('iucr', 'STRING', 'NULLABLE', None, ()),\n",
       " SchemaField('primary_type', 'STRING', 'NULLABLE', None, ()),\n",
       " SchemaField('description', 'STRING', 'NULLABLE', None, ()),\n",
       " SchemaField('location_description', 'STRING', 'NULLABLE', None, ()),\n",
       " SchemaField('arrest', 'BOOLEAN', 'NULLABLE', None, ()),\n",
       " SchemaField('domestic', 'BOOLEAN', 'NULLABLE', None, ()),\n",
       " SchemaField('beat', 'INTEGER', 'NULLABLE', None, ()),\n",
       " SchemaField('district', 'INTEGER', 'NULLABLE', None, ()),\n",
       " SchemaField('ward', 'INTEGER', 'NULLABLE', None, ()),\n",
       " SchemaField('community_area', 'INTEGER', 'NULLABLE', None, ()),\n",
       " SchemaField('fbi_code', 'STRING', 'NULLABLE', None, ()),\n",
       " SchemaField('x_coordinate', 'FLOAT', 'NULLABLE', None, ()),\n",
       " SchemaField('y_coordinate', 'FLOAT', 'NULLABLE', None, ()),\n",
       " SchemaField('year', 'INTEGER', 'NULLABLE', None, ()),\n",
       " SchemaField('updated_on', 'TIMESTAMP', 'NULLABLE', None, ()),\n",
       " SchemaField('latitude', 'FLOAT', 'NULLABLE', None, ()),\n",
       " SchemaField('longitude', 'FLOAT', 'NULLABLE', None, ()),\n",
       " SchemaField('location', 'STRING', 'NULLABLE', None, ())]"
      ]
     },
     "execution_count": 9,
     "metadata": {},
     "output_type": "execute_result"
    }
   ],
   "source": [
    "# Write the code here to explore the data so you can find the answer\n",
    "table.schema"
   ]
  },
  {
   "cell_type": "code",
   "execution_count": 10,
   "metadata": {
    "execution": {
     "iopub.execute_input": "2025-07-25T06:40:50.660386Z",
     "iopub.status.busy": "2025-07-25T06:40:50.660067Z",
     "iopub.status.idle": "2025-07-25T06:40:50.667581Z",
     "shell.execute_reply": "2025-07-25T06:40:50.666499Z",
     "shell.execute_reply.started": "2025-07-25T06:40:50.660337Z"
    }
   },
   "outputs": [
    {
     "data": {
      "application/javascript": [
       "parent.postMessage({\"jupyterEvent\": \"custom.exercise_interaction\", \"data\": {\"outcomeType\": 1, \"valueTowardsCompletion\": 0.3333333333333333, \"interactionType\": 1, \"questionType\": 2, \"questionId\": \"3_IdentifyFieldsForPlotting\", \"learnToolsVersion\": \"0.3.4\", \"failureMessage\": \"\", \"exceptionClass\": \"\", \"trace\": \"\"}}, \"*\")"
      ],
      "text/plain": [
       "<IPython.core.display.Javascript object>"
      ]
     },
     "metadata": {},
     "output_type": "display_data"
    },
    {
     "data": {
      "text/markdown": [
       "<span style=\"color:#33cc33\">Correct</span>"
      ],
      "text/plain": [
       "Correct"
      ]
     },
     "metadata": {},
     "output_type": "display_data"
    }
   ],
   "source": [
    "fields_for_plotting = ['latitude', 'longitude'] # Put your answers here\n",
    "\n",
    "q_3.check()"
   ]
  },
  {
   "cell_type": "markdown",
   "metadata": {},
   "source": [
    "For a hint or the solution, uncomment the appropriate line below."
   ]
  },
  {
   "cell_type": "code",
   "execution_count": 11,
   "metadata": {
    "execution": {
     "iopub.execute_input": "2025-07-25T06:40:53.852499Z",
     "iopub.status.busy": "2025-07-25T06:40:53.852179Z",
     "iopub.status.idle": "2025-07-25T06:40:53.856658Z",
     "shell.execute_reply": "2025-07-25T06:40:53.855499Z",
     "shell.execute_reply.started": "2025-07-25T06:40:53.852452Z"
    }
   },
   "outputs": [],
   "source": [
    "#q_3.hint()\n",
    "#q_3.solution()"
   ]
  },
  {
   "cell_type": "markdown",
   "metadata": {},
   "source": [
    "Thinking about the question above, there are a few columns that appear to have geographic data. Look at a few values (with the `list_rows()` command) to see if you can determine their relationship.  Two columns will still be hard to interpret. But it should be obvious how the `location` column relates to `latitude` and `longitude`."
   ]
  },
  {
   "cell_type": "code",
   "execution_count": 12,
   "metadata": {
    "execution": {
     "iopub.execute_input": "2025-07-25T06:49:01.988190Z",
     "iopub.status.busy": "2025-07-25T06:49:01.987834Z",
     "iopub.status.idle": "2025-07-25T06:49:02.399209Z",
     "shell.execute_reply": "2025-07-25T06:49:02.398284Z",
     "shell.execute_reply.started": "2025-07-25T06:49:01.988135Z"
    }
   },
   "outputs": [
    {
     "data": {
      "text/html": [
       "<div>\n",
       "<style scoped>\n",
       "    .dataframe tbody tr th:only-of-type {\n",
       "        vertical-align: middle;\n",
       "    }\n",
       "\n",
       "    .dataframe tbody tr th {\n",
       "        vertical-align: top;\n",
       "    }\n",
       "\n",
       "    .dataframe thead th {\n",
       "        text-align: right;\n",
       "    }\n",
       "</style>\n",
       "<table border=\"1\" class=\"dataframe\">\n",
       "  <thead>\n",
       "    <tr style=\"text-align: right;\">\n",
       "      <th></th>\n",
       "      <th>unique_key</th>\n",
       "      <th>case_number</th>\n",
       "      <th>date</th>\n",
       "      <th>block</th>\n",
       "      <th>iucr</th>\n",
       "      <th>primary_type</th>\n",
       "      <th>description</th>\n",
       "      <th>location_description</th>\n",
       "      <th>arrest</th>\n",
       "      <th>domestic</th>\n",
       "      <th>...</th>\n",
       "      <th>ward</th>\n",
       "      <th>community_area</th>\n",
       "      <th>fbi_code</th>\n",
       "      <th>x_coordinate</th>\n",
       "      <th>y_coordinate</th>\n",
       "      <th>year</th>\n",
       "      <th>updated_on</th>\n",
       "      <th>latitude</th>\n",
       "      <th>longitude</th>\n",
       "      <th>location</th>\n",
       "    </tr>\n",
       "  </thead>\n",
       "  <tbody>\n",
       "    <tr>\n",
       "      <th>0</th>\n",
       "      <td>11060331</td>\n",
       "      <td>JA397659</td>\n",
       "      <td>2017-08-13 12:27:00+00:00</td>\n",
       "      <td>0000X W RANDOLPH ST</td>\n",
       "      <td>0281</td>\n",
       "      <td>CRIM SEXUAL ASSAULT</td>\n",
       "      <td>NON-AGGRAVATED</td>\n",
       "      <td>HOTEL/MOTEL</td>\n",
       "      <td>False</td>\n",
       "      <td>False</td>\n",
       "      <td>...</td>\n",
       "      <td>42</td>\n",
       "      <td>32</td>\n",
       "      <td>02</td>\n",
       "      <td>1176068.0</td>\n",
       "      <td>1901284.0</td>\n",
       "      <td>2017</td>\n",
       "      <td>2018-02-10 15:50:01+00:00</td>\n",
       "      <td>41.884486</td>\n",
       "      <td>-87.628909</td>\n",
       "      <td>(41.884486217, -87.628908795)</td>\n",
       "    </tr>\n",
       "    <tr>\n",
       "      <th>1</th>\n",
       "      <td>7263938</td>\n",
       "      <td>HR678180</td>\n",
       "      <td>2009-12-06 03:00:00+00:00</td>\n",
       "      <td>006XX W WASHINGTON BLVD</td>\n",
       "      <td>0313</td>\n",
       "      <td>ROBBERY</td>\n",
       "      <td>ARMED: OTHER DANGEROUS WEAPON</td>\n",
       "      <td>PARKING LOT/GARAGE(NON.RESID.)</td>\n",
       "      <td>False</td>\n",
       "      <td>False</td>\n",
       "      <td>...</td>\n",
       "      <td>27</td>\n",
       "      <td>28</td>\n",
       "      <td>03</td>\n",
       "      <td>1171769.0</td>\n",
       "      <td>1900767.0</td>\n",
       "      <td>2009</td>\n",
       "      <td>2018-02-28 15:56:25+00:00</td>\n",
       "      <td>41.883163</td>\n",
       "      <td>-87.644710</td>\n",
       "      <td>(41.883163285, -87.644710386)</td>\n",
       "    </tr>\n",
       "    <tr>\n",
       "      <th>2</th>\n",
       "      <td>2431199</td>\n",
       "      <td>HH749112</td>\n",
       "      <td>2002-10-30 21:59:19+00:00</td>\n",
       "      <td>005XX W MADISON ST</td>\n",
       "      <td>031A</td>\n",
       "      <td>ROBBERY</td>\n",
       "      <td>ARMED: HANDGUN</td>\n",
       "      <td>SIDEWALK</td>\n",
       "      <td>False</td>\n",
       "      <td>False</td>\n",
       "      <td>...</td>\n",
       "      <td>42</td>\n",
       "      <td>28</td>\n",
       "      <td>03</td>\n",
       "      <td>1173039.0</td>\n",
       "      <td>1900311.0</td>\n",
       "      <td>2002</td>\n",
       "      <td>2018-02-28 15:56:25+00:00</td>\n",
       "      <td>41.881884</td>\n",
       "      <td>-87.640060</td>\n",
       "      <td>(41.881883933, -87.640060441)</td>\n",
       "    </tr>\n",
       "    <tr>\n",
       "      <th>3</th>\n",
       "      <td>13141030</td>\n",
       "      <td>JG340094</td>\n",
       "      <td>2023-07-13 22:00:00+00:00</td>\n",
       "      <td>002XX N STATE ST</td>\n",
       "      <td>0320</td>\n",
       "      <td>ROBBERY</td>\n",
       "      <td>STRONG ARM - NO WEAPON</td>\n",
       "      <td>CTA PLATFORM</td>\n",
       "      <td>False</td>\n",
       "      <td>False</td>\n",
       "      <td>...</td>\n",
       "      <td>42</td>\n",
       "      <td>32</td>\n",
       "      <td>03</td>\n",
       "      <td>1176327.0</td>\n",
       "      <td>1901797.0</td>\n",
       "      <td>2023</td>\n",
       "      <td>2023-08-19 15:40:26+00:00</td>\n",
       "      <td>41.885888</td>\n",
       "      <td>-87.627942</td>\n",
       "      <td>(41.885888079, -87.627942238)</td>\n",
       "    </tr>\n",
       "    <tr>\n",
       "      <th>4</th>\n",
       "      <td>2314598</td>\n",
       "      <td>HH602912</td>\n",
       "      <td>2002-08-24 22:45:00+00:00</td>\n",
       "      <td>003XX W WASHINGTON ST</td>\n",
       "      <td>0320</td>\n",
       "      <td>ROBBERY</td>\n",
       "      <td>STRONGARM - NO WEAPON</td>\n",
       "      <td>STREET</td>\n",
       "      <td>False</td>\n",
       "      <td>False</td>\n",
       "      <td>...</td>\n",
       "      <td>42</td>\n",
       "      <td>32</td>\n",
       "      <td>03</td>\n",
       "      <td>1174205.0</td>\n",
       "      <td>1900802.0</td>\n",
       "      <td>2002</td>\n",
       "      <td>2018-02-28 15:56:25+00:00</td>\n",
       "      <td>41.883205</td>\n",
       "      <td>-87.635764</td>\n",
       "      <td>(41.88320534, -87.635764295)</td>\n",
       "    </tr>\n",
       "  </tbody>\n",
       "</table>\n",
       "<p>5 rows × 22 columns</p>\n",
       "</div>"
      ],
      "text/plain": [
       "   unique_key case_number                      date                    block  \\\n",
       "0    11060331    JA397659 2017-08-13 12:27:00+00:00      0000X W RANDOLPH ST   \n",
       "1     7263938    HR678180 2009-12-06 03:00:00+00:00  006XX W WASHINGTON BLVD   \n",
       "2     2431199    HH749112 2002-10-30 21:59:19+00:00       005XX W MADISON ST   \n",
       "3    13141030    JG340094 2023-07-13 22:00:00+00:00         002XX N STATE ST   \n",
       "4     2314598    HH602912 2002-08-24 22:45:00+00:00    003XX W WASHINGTON ST   \n",
       "\n",
       "   iucr         primary_type                    description  \\\n",
       "0  0281  CRIM SEXUAL ASSAULT                 NON-AGGRAVATED   \n",
       "1  0313              ROBBERY  ARMED: OTHER DANGEROUS WEAPON   \n",
       "2  031A              ROBBERY                 ARMED: HANDGUN   \n",
       "3  0320              ROBBERY         STRONG ARM - NO WEAPON   \n",
       "4  0320              ROBBERY          STRONGARM - NO WEAPON   \n",
       "\n",
       "             location_description  arrest  domestic  ...  ward  \\\n",
       "0                     HOTEL/MOTEL   False     False  ...    42   \n",
       "1  PARKING LOT/GARAGE(NON.RESID.)   False     False  ...    27   \n",
       "2                        SIDEWALK   False     False  ...    42   \n",
       "3                    CTA PLATFORM   False     False  ...    42   \n",
       "4                          STREET   False     False  ...    42   \n",
       "\n",
       "   community_area  fbi_code  x_coordinate y_coordinate  year  \\\n",
       "0              32        02     1176068.0    1901284.0  2017   \n",
       "1              28        03     1171769.0    1900767.0  2009   \n",
       "2              28        03     1173039.0    1900311.0  2002   \n",
       "3              32        03     1176327.0    1901797.0  2023   \n",
       "4              32        03     1174205.0    1900802.0  2002   \n",
       "\n",
       "                 updated_on   latitude  longitude  \\\n",
       "0 2018-02-10 15:50:01+00:00  41.884486 -87.628909   \n",
       "1 2018-02-28 15:56:25+00:00  41.883163 -87.644710   \n",
       "2 2018-02-28 15:56:25+00:00  41.881884 -87.640060   \n",
       "3 2023-08-19 15:40:26+00:00  41.885888 -87.627942   \n",
       "4 2018-02-28 15:56:25+00:00  41.883205 -87.635764   \n",
       "\n",
       "                        location  \n",
       "0  (41.884486217, -87.628908795)  \n",
       "1  (41.883163285, -87.644710386)  \n",
       "2  (41.881883933, -87.640060441)  \n",
       "3  (41.885888079, -87.627942238)  \n",
       "4   (41.88320534, -87.635764295)  \n",
       "\n",
       "[5 rows x 22 columns]"
      ]
     },
     "execution_count": 12,
     "metadata": {},
     "output_type": "execute_result"
    }
   ],
   "source": [
    "# Scratch space for your code\n",
    "client.list_rows(table, max_results=5).to_dataframe()"
   ]
  },
  {
   "cell_type": "markdown",
   "metadata": {},
   "source": [
    "# Keep going\n",
    "\n",
    "You've looked at the schema, but you haven't yet done anything exciting with the data itself. Things get more interesting when you get to the data, so keep going to **[write your first SQL query](https://www.kaggle.com/dansbecker/select-from-where).**"
   ]
  },
  {
   "cell_type": "markdown",
   "metadata": {},
   "source": [
    "---\n",
    "**[SQL Home Page](https://www.kaggle.com/learn/intro-to-sql)**\n",
    "\n",
    "\n",
    "\n",
    "\n",
    "\n",
    "*Have questions or comments? Visit the [Learn Discussion forum](https://www.kaggle.com/learn-forum) to chat with other Learners.*"
   ]
  }
 ],
 "metadata": {
  "kaggle": {
   "accelerator": "none",
   "dataSources": [
    {
     "datasetId": 22090,
     "sourceId": 28376,
     "sourceType": "datasetVersion"
    },
    {
     "datasetId": 6057,
     "sourceId": 285982,
     "sourceType": "datasetVersion"
    }
   ],
   "dockerImageVersionId": 29852,
   "isGpuEnabled": false,
   "isInternetEnabled": false,
   "language": "python",
   "sourceType": "notebook"
  },
  "kernelspec": {
   "display_name": "Python 3",
   "language": "python",
   "name": "python3"
  },
  "language_info": {
   "codemirror_mode": {
    "name": "ipython",
    "version": 3
   },
   "file_extension": ".py",
   "mimetype": "text/x-python",
   "name": "python",
   "nbconvert_exporter": "python",
   "pygments_lexer": "ipython3",
   "version": "3.6.6"
  }
 },
 "nbformat": 4,
 "nbformat_minor": 4
}
