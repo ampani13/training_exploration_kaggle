{
 "cells": [
  {
   "cell_type": "markdown",
   "id": "26f2f7b7",
   "metadata": {
    "papermill": {
     "duration": 0.00342,
     "end_time": "2025-07-25T07:45:13.801083",
     "exception": false,
     "start_time": "2025-07-25T07:45:13.797663",
     "status": "completed"
    },
    "tags": []
   },
   "source": [
    "**This notebook is an exercise in the [SQL](https://www.kaggle.com/learn/intro-to-sql) course.  You can reference the tutorial at [this link](https://www.kaggle.com/dansbecker/group-by-having-count).**\n",
    "\n",
    "---\n"
   ]
  },
  {
   "cell_type": "markdown",
   "id": "48b9ba90",
   "metadata": {
    "papermill": {
     "duration": 0.00278,
     "end_time": "2025-07-25T07:45:13.807020",
     "exception": false,
     "start_time": "2025-07-25T07:45:13.804240",
     "status": "completed"
    },
    "tags": []
   },
   "source": [
    "# Introduction\n",
    "\n",
    "Queries with **GROUP BY** can be powerful. There are many small things that can trip you up (like the order of the clauses), but it will start to feel natural once you've done it a few times. Here, you'll write queries using **GROUP BY** to answer questions from the Hacker News dataset.\n",
    "\n",
    "Before you get started, run the following cell to set everything up:"
   ]
  },
  {
   "cell_type": "code",
   "execution_count": 1,
   "id": "bf176518",
   "metadata": {
    "execution": {
     "iopub.execute_input": "2025-07-25T07:45:13.814259Z",
     "iopub.status.busy": "2025-07-25T07:45:13.813879Z",
     "iopub.status.idle": "2025-07-25T07:45:34.150050Z",
     "shell.execute_reply": "2025-07-25T07:45:34.149025Z"
    },
    "papermill": {
     "duration": 20.34159,
     "end_time": "2025-07-25T07:45:34.151684",
     "exception": false,
     "start_time": "2025-07-25T07:45:13.810094",
     "status": "completed"
    },
    "tags": []
   },
   "outputs": [
    {
     "name": "stdout",
     "output_type": "stream",
     "text": [
      "Using Kaggle's public dataset BigQuery integration.\n"
     ]
    },
    {
     "name": "stderr",
     "output_type": "stream",
     "text": [
      "/usr/local/lib/python3.11/dist-packages/google/cloud/bigquery/table.py:1727: UserWarning: BigQuery Storage module not found, fetch data with the REST endpoint instead.\n",
      "  warnings.warn(\n"
     ]
    },
    {
     "name": "stdout",
     "output_type": "stream",
     "text": [
      "Setup Complete\n"
     ]
    }
   ],
   "source": [
    "# Set up feedback system\n",
    "from learntools.core import binder\n",
    "binder.bind(globals())\n",
    "from learntools.sql.ex3 import *\n",
    "print(\"Setup Complete\")"
   ]
  },
  {
   "cell_type": "markdown",
   "id": "0734080b",
   "metadata": {
    "papermill": {
     "duration": 0.00281,
     "end_time": "2025-07-25T07:45:34.157647",
     "exception": false,
     "start_time": "2025-07-25T07:45:34.154837",
     "status": "completed"
    },
    "tags": []
   },
   "source": [
    "The code cell below fetches the `full` table from the `hacker_news` dataset.  We also preview the first five rows of the table."
   ]
  },
  {
   "cell_type": "code",
   "execution_count": 2,
   "id": "674db355",
   "metadata": {
    "execution": {
     "iopub.execute_input": "2025-07-25T07:45:34.165020Z",
     "iopub.status.busy": "2025-07-25T07:45:34.164563Z",
     "iopub.status.idle": "2025-07-25T07:45:35.089099Z",
     "shell.execute_reply": "2025-07-25T07:45:35.088258Z"
    },
    "papermill": {
     "duration": 0.93014,
     "end_time": "2025-07-25T07:45:35.090733",
     "exception": false,
     "start_time": "2025-07-25T07:45:34.160593",
     "status": "completed"
    },
    "tags": []
   },
   "outputs": [
    {
     "name": "stdout",
     "output_type": "stream",
     "text": [
      "Using Kaggle's public dataset BigQuery integration.\n"
     ]
    },
    {
     "data": {
      "text/html": [
       "<div>\n",
       "<style scoped>\n",
       "    .dataframe tbody tr th:only-of-type {\n",
       "        vertical-align: middle;\n",
       "    }\n",
       "\n",
       "    .dataframe tbody tr th {\n",
       "        vertical-align: top;\n",
       "    }\n",
       "\n",
       "    .dataframe thead th {\n",
       "        text-align: right;\n",
       "    }\n",
       "</style>\n",
       "<table border=\"1\" class=\"dataframe\">\n",
       "  <thead>\n",
       "    <tr style=\"text-align: right;\">\n",
       "      <th></th>\n",
       "      <th>title</th>\n",
       "      <th>url</th>\n",
       "      <th>text</th>\n",
       "      <th>dead</th>\n",
       "      <th>by</th>\n",
       "      <th>score</th>\n",
       "      <th>time</th>\n",
       "      <th>timestamp</th>\n",
       "      <th>type</th>\n",
       "      <th>id</th>\n",
       "      <th>parent</th>\n",
       "      <th>descendants</th>\n",
       "      <th>ranking</th>\n",
       "      <th>deleted</th>\n",
       "    </tr>\n",
       "  </thead>\n",
       "  <tbody>\n",
       "    <tr>\n",
       "      <th>0</th>\n",
       "      <td>None</td>\n",
       "      <td>None</td>\n",
       "      <td>None</td>\n",
       "      <td>&lt;NA&gt;</td>\n",
       "      <td>None</td>\n",
       "      <td>&lt;NA&gt;</td>\n",
       "      <td>&lt;NA&gt;</td>\n",
       "      <td>NaT</td>\n",
       "      <td>story</td>\n",
       "      <td>9948800</td>\n",
       "      <td>&lt;NA&gt;</td>\n",
       "      <td>&lt;NA&gt;</td>\n",
       "      <td>&lt;NA&gt;</td>\n",
       "      <td>&lt;NA&gt;</td>\n",
       "    </tr>\n",
       "    <tr>\n",
       "      <th>1</th>\n",
       "      <td>None</td>\n",
       "      <td>None</td>\n",
       "      <td>None</td>\n",
       "      <td>&lt;NA&gt;</td>\n",
       "      <td>None</td>\n",
       "      <td>&lt;NA&gt;</td>\n",
       "      <td>1437855204</td>\n",
       "      <td>2015-07-25 20:13:24+00:00</td>\n",
       "      <td>story</td>\n",
       "      <td>9948834</td>\n",
       "      <td>&lt;NA&gt;</td>\n",
       "      <td>&lt;NA&gt;</td>\n",
       "      <td>&lt;NA&gt;</td>\n",
       "      <td>&lt;NA&gt;</td>\n",
       "    </tr>\n",
       "    <tr>\n",
       "      <th>2</th>\n",
       "      <td>None</td>\n",
       "      <td>None</td>\n",
       "      <td>None</td>\n",
       "      <td>&lt;NA&gt;</td>\n",
       "      <td>None</td>\n",
       "      <td>&lt;NA&gt;</td>\n",
       "      <td>1437855911</td>\n",
       "      <td>2015-07-25 20:25:11+00:00</td>\n",
       "      <td>story</td>\n",
       "      <td>9948876</td>\n",
       "      <td>&lt;NA&gt;</td>\n",
       "      <td>&lt;NA&gt;</td>\n",
       "      <td>&lt;NA&gt;</td>\n",
       "      <td>&lt;NA&gt;</td>\n",
       "    </tr>\n",
       "    <tr>\n",
       "      <th>3</th>\n",
       "      <td>None</td>\n",
       "      <td>None</td>\n",
       "      <td>None</td>\n",
       "      <td>&lt;NA&gt;</td>\n",
       "      <td>None</td>\n",
       "      <td>&lt;NA&gt;</td>\n",
       "      <td>&lt;NA&gt;</td>\n",
       "      <td>NaT</td>\n",
       "      <td>story</td>\n",
       "      <td>9948881</td>\n",
       "      <td>&lt;NA&gt;</td>\n",
       "      <td>&lt;NA&gt;</td>\n",
       "      <td>&lt;NA&gt;</td>\n",
       "      <td>&lt;NA&gt;</td>\n",
       "    </tr>\n",
       "    <tr>\n",
       "      <th>4</th>\n",
       "      <td>None</td>\n",
       "      <td>None</td>\n",
       "      <td>None</td>\n",
       "      <td>&lt;NA&gt;</td>\n",
       "      <td>None</td>\n",
       "      <td>&lt;NA&gt;</td>\n",
       "      <td>&lt;NA&gt;</td>\n",
       "      <td>NaT</td>\n",
       "      <td>story</td>\n",
       "      <td>9948899</td>\n",
       "      <td>&lt;NA&gt;</td>\n",
       "      <td>&lt;NA&gt;</td>\n",
       "      <td>&lt;NA&gt;</td>\n",
       "      <td>&lt;NA&gt;</td>\n",
       "    </tr>\n",
       "  </tbody>\n",
       "</table>\n",
       "</div>"
      ],
      "text/plain": [
       "  title   url  text  dead    by  score        time                 timestamp  \\\n",
       "0  None  None  None  <NA>  None   <NA>        <NA>                       NaT   \n",
       "1  None  None  None  <NA>  None   <NA>  1437855204 2015-07-25 20:13:24+00:00   \n",
       "2  None  None  None  <NA>  None   <NA>  1437855911 2015-07-25 20:25:11+00:00   \n",
       "3  None  None  None  <NA>  None   <NA>        <NA>                       NaT   \n",
       "4  None  None  None  <NA>  None   <NA>        <NA>                       NaT   \n",
       "\n",
       "    type       id  parent  descendants  ranking  deleted  \n",
       "0  story  9948800    <NA>         <NA>     <NA>     <NA>  \n",
       "1  story  9948834    <NA>         <NA>     <NA>     <NA>  \n",
       "2  story  9948876    <NA>         <NA>     <NA>     <NA>  \n",
       "3  story  9948881    <NA>         <NA>     <NA>     <NA>  \n",
       "4  story  9948899    <NA>         <NA>     <NA>     <NA>  "
      ]
     },
     "execution_count": 2,
     "metadata": {},
     "output_type": "execute_result"
    }
   ],
   "source": [
    "from google.cloud import bigquery\n",
    "\n",
    "# Create a \"Client\" object\n",
    "client = bigquery.Client()\n",
    "\n",
    "# Construct a reference to the \"hacker_news\" dataset\n",
    "dataset_ref = client.dataset(\"hacker_news\", project=\"bigquery-public-data\")\n",
    "\n",
    "# API request - fetch the dataset\n",
    "dataset = client.get_dataset(dataset_ref)\n",
    "\n",
    "# Construct a reference to the \"full\" table\n",
    "table_ref = dataset_ref.table(\"full\")\n",
    "\n",
    "# API request - fetch the table\n",
    "table = client.get_table(table_ref)\n",
    "\n",
    "# Preview the first five lines of the table\n",
    "client.list_rows(table, max_results=5).to_dataframe()"
   ]
  },
  {
   "cell_type": "markdown",
   "id": "0e83fba0",
   "metadata": {
    "papermill": {
     "duration": 0.003008,
     "end_time": "2025-07-25T07:45:35.097267",
     "exception": false,
     "start_time": "2025-07-25T07:45:35.094259",
     "status": "completed"
    },
    "tags": []
   },
   "source": [
    "# Exercises\n",
    "\n",
    "### 1) Prolific commenters\n",
    "\n",
    "Hacker News would like to send awards to everyone who has written more than 10,000 posts. Write a query that returns all authors with more than 10,000 posts as well as their post counts. Call the column with post counts `NumPosts`.\n",
    "\n",
    "In case sample query is helpful, here is a query you saw in the tutorial to answer a similar question:\n",
    "```\n",
    "query = \"\"\"\n",
    "        SELECT parent, COUNT(1) AS NumPosts\n",
    "        FROM `bigquery-public-data.hacker_news.full`\n",
    "        GROUP BY parent\n",
    "        HAVING COUNT(1) > 10\n",
    "        \"\"\"\n",
    "```"
   ]
  },
  {
   "cell_type": "code",
   "execution_count": 3,
   "id": "8601fa39",
   "metadata": {
    "execution": {
     "iopub.execute_input": "2025-07-25T07:45:35.104692Z",
     "iopub.status.busy": "2025-07-25T07:45:35.104397Z",
     "iopub.status.idle": "2025-07-25T07:45:35.988026Z",
     "shell.execute_reply": "2025-07-25T07:45:35.987140Z"
    },
    "papermill": {
     "duration": 0.888998,
     "end_time": "2025-07-25T07:45:35.989483",
     "exception": false,
     "start_time": "2025-07-25T07:45:35.100485",
     "status": "completed"
    },
    "tags": []
   },
   "outputs": [
    {
     "name": "stderr",
     "output_type": "stream",
     "text": [
      "/usr/local/lib/python3.11/dist-packages/google/cloud/bigquery/table.py:1727: UserWarning: BigQuery Storage module not found, fetch data with the REST endpoint instead.\n",
      "  warnings.warn(\n"
     ]
    },
    {
     "name": "stdout",
     "output_type": "stream",
     "text": [
      "         author  NumPosts\n",
      "0      nitrogen     10896\n",
      "1  ZeroGravitas     13039\n",
      "2    Dylan16807     24709\n",
      "3   marcosdumay     17512\n",
      "4   bryanlarsen     12104\n"
     ]
    },
    {
     "data": {
      "application/javascript": [
       "parent.postMessage({\"jupyterEvent\": \"custom.exercise_interaction\", \"data\": {\"outcomeType\": 1, \"valueTowardsCompletion\": 0.5, \"interactionType\": 1, \"questionType\": 2, \"questionId\": \"1_ProlificCommenters\", \"learnToolsVersion\": \"0.3.5\", \"failureMessage\": \"\", \"exceptionClass\": \"\", \"trace\": \"\"}}, \"*\")"
      ],
      "text/plain": [
       "<IPython.core.display.Javascript object>"
      ]
     },
     "metadata": {},
     "output_type": "display_data"
    },
    {
     "data": {
      "text/markdown": [
       "<span style=\"color:#33cc33\">Correct</span>"
      ],
      "text/plain": [
       "Correct"
      ]
     },
     "metadata": {},
     "output_type": "display_data"
    }
   ],
   "source": [
    "# Query to select prolific commenters and post counts\n",
    "prolific_commenters_query = \"\"\"SELECT `by` AS author, COUNT(1) AS NumPosts\n",
    "        FROM `bigquery-public-data.hacker_news.full`\n",
    "        GROUP BY author\n",
    "        HAVING COUNT(1) > 10000\"\"\" \n",
    "\n",
    "# Set up the query (cancel the query if it would use too much of \n",
    "# your quota, with the limit set to 1 GB)\n",
    "safe_config = bigquery.QueryJobConfig(maximum_bytes_billed=10**10)\n",
    "query_job = client.query(prolific_commenters_query, job_config=safe_config)\n",
    "\n",
    "# API request - run the query, and return a pandas DataFrame\n",
    "prolific_commenters = query_job.to_dataframe()\n",
    "\n",
    "# View top few rows of results\n",
    "print(prolific_commenters.head())\n",
    "\n",
    "# Check your answer\n",
    "q_1.check()"
   ]
  },
  {
   "cell_type": "markdown",
   "id": "f76e480e",
   "metadata": {
    "papermill": {
     "duration": 0.003761,
     "end_time": "2025-07-25T07:45:35.996915",
     "exception": false,
     "start_time": "2025-07-25T07:45:35.993154",
     "status": "completed"
    },
    "tags": []
   },
   "source": [
    "For the solution, uncomment the line below."
   ]
  },
  {
   "cell_type": "code",
   "execution_count": 4,
   "id": "65066093",
   "metadata": {
    "execution": {
     "iopub.execute_input": "2025-07-25T07:45:36.005392Z",
     "iopub.status.busy": "2025-07-25T07:45:36.005032Z",
     "iopub.status.idle": "2025-07-25T07:45:36.010055Z",
     "shell.execute_reply": "2025-07-25T07:45:36.008934Z"
    },
    "papermill": {
     "duration": 0.011171,
     "end_time": "2025-07-25T07:45:36.011667",
     "exception": false,
     "start_time": "2025-07-25T07:45:36.000496",
     "status": "completed"
    },
    "tags": []
   },
   "outputs": [],
   "source": [
    "#q_1.solution()"
   ]
  },
  {
   "cell_type": "markdown",
   "id": "f233f434",
   "metadata": {
    "papermill": {
     "duration": 0.003212,
     "end_time": "2025-07-25T07:45:36.018643",
     "exception": false,
     "start_time": "2025-07-25T07:45:36.015431",
     "status": "completed"
    },
    "tags": []
   },
   "source": [
    "### 2) Deleted comments\n",
    "\n",
    "How many comments have been deleted? (If a comment was deleted, the `deleted` column in the table will have the value `True`.)"
   ]
  },
  {
   "cell_type": "code",
   "execution_count": 5,
   "id": "a630f5c5",
   "metadata": {
    "execution": {
     "iopub.execute_input": "2025-07-25T07:45:36.026783Z",
     "iopub.status.busy": "2025-07-25T07:45:36.026431Z",
     "iopub.status.idle": "2025-07-25T07:45:36.837489Z",
     "shell.execute_reply": "2025-07-25T07:45:36.836477Z"
    },
    "papermill": {
     "duration": 0.816725,
     "end_time": "2025-07-25T07:45:36.838814",
     "exception": false,
     "start_time": "2025-07-25T07:45:36.022089",
     "status": "completed"
    },
    "tags": []
   },
   "outputs": [
    {
     "name": "stderr",
     "output_type": "stream",
     "text": [
      "/usr/local/lib/python3.11/dist-packages/google/cloud/bigquery/table.py:1727: UserWarning: BigQuery Storage module not found, fetch data with the REST endpoint instead.\n",
      "  warnings.warn(\n"
     ]
    },
    {
     "name": "stdout",
     "output_type": "stream",
     "text": [
      "   f0_\n",
      "0    0\n"
     ]
    }
   ],
   "source": [
    "# Write your query here and figure out the answer\n",
    "query = \"\"\"\n",
    "        SELECT COUNT(1)\n",
    "        FROM `bigquery-public-data.hacker_news.full`\n",
    "        WHERE deleted = True\n",
    "        \"\"\"\n",
    "query_job = client.query(query)\n",
    "deleted_posts = query_job.to_dataframe()\n",
    "print(deleted_posts)"
   ]
  },
  {
   "cell_type": "code",
   "execution_count": 6,
   "id": "35e2b602",
   "metadata": {
    "execution": {
     "iopub.execute_input": "2025-07-25T07:45:36.848070Z",
     "iopub.status.busy": "2025-07-25T07:45:36.847778Z",
     "iopub.status.idle": "2025-07-25T07:45:36.854371Z",
     "shell.execute_reply": "2025-07-25T07:45:36.853641Z"
    },
    "papermill": {
     "duration": 0.012447,
     "end_time": "2025-07-25T07:45:36.855688",
     "exception": false,
     "start_time": "2025-07-25T07:45:36.843241",
     "status": "completed"
    },
    "tags": []
   },
   "outputs": [
    {
     "data": {
      "application/javascript": [
       "parent.postMessage({\"jupyterEvent\": \"custom.exercise_interaction\", \"data\": {\"outcomeType\": 1, \"valueTowardsCompletion\": 0.5, \"interactionType\": 1, \"questionType\": 1, \"questionId\": \"2_NumDeletedPosts\", \"learnToolsVersion\": \"0.3.5\", \"failureMessage\": \"\", \"exceptionClass\": \"\", \"trace\": \"\"}}, \"*\")"
      ],
      "text/plain": [
       "<IPython.core.display.Javascript object>"
      ]
     },
     "metadata": {},
     "output_type": "display_data"
    },
    {
     "data": {
      "text/markdown": [
       "<span style=\"color:#33cc33\">Correct</span>"
      ],
      "text/plain": [
       "Correct"
      ]
     },
     "metadata": {},
     "output_type": "display_data"
    }
   ],
   "source": [
    "num_deleted_posts = 0 # Put your answer here\n",
    "\n",
    "# Check your answer\n",
    "q_2.check()"
   ]
  },
  {
   "cell_type": "markdown",
   "id": "2d09cdbc",
   "metadata": {
    "papermill": {
     "duration": 0.003326,
     "end_time": "2025-07-25T07:45:36.862841",
     "exception": false,
     "start_time": "2025-07-25T07:45:36.859515",
     "status": "completed"
    },
    "tags": []
   },
   "source": [
    "For the solution, uncomment the line below."
   ]
  },
  {
   "cell_type": "code",
   "execution_count": 7,
   "id": "5537212f",
   "metadata": {
    "execution": {
     "iopub.execute_input": "2025-07-25T07:45:36.871670Z",
     "iopub.status.busy": "2025-07-25T07:45:36.871118Z",
     "iopub.status.idle": "2025-07-25T07:45:36.875121Z",
     "shell.execute_reply": "2025-07-25T07:45:36.874321Z"
    },
    "papermill": {
     "duration": 0.009829,
     "end_time": "2025-07-25T07:45:36.876619",
     "exception": false,
     "start_time": "2025-07-25T07:45:36.866790",
     "status": "completed"
    },
    "tags": []
   },
   "outputs": [],
   "source": [
    "#q_2.solution()"
   ]
  },
  {
   "cell_type": "markdown",
   "id": "88e5e58f",
   "metadata": {
    "papermill": {
     "duration": 0.003508,
     "end_time": "2025-07-25T07:45:36.884147",
     "exception": false,
     "start_time": "2025-07-25T07:45:36.880639",
     "status": "completed"
    },
    "tags": []
   },
   "source": [
    "# Keep Going\n",
    "**[Click here](https://www.kaggle.com/dansbecker/order-by)** to move on and learn about the **ORDER BY** clause."
   ]
  },
  {
   "cell_type": "markdown",
   "id": "65856856",
   "metadata": {
    "papermill": {
     "duration": 0.003635,
     "end_time": "2025-07-25T07:45:36.893089",
     "exception": false,
     "start_time": "2025-07-25T07:45:36.889454",
     "status": "completed"
    },
    "tags": []
   },
   "source": [
    "---\n",
    "\n",
    "\n",
    "\n",
    "\n",
    "*Have questions or comments? Visit the [course discussion forum](https://www.kaggle.com/learn/intro-to-sql/discussion) to chat with other learners.*"
   ]
  }
 ],
 "metadata": {
  "kaggle": {
   "accelerator": "none",
   "dataSources": [
    {
     "datasetId": 6057,
     "sourceId": 285982,
     "sourceType": "datasetVersion"
    }
   ],
   "isGpuEnabled": false,
   "isInternetEnabled": false,
   "language": "python",
   "sourceType": "notebook"
  },
  "kernelspec": {
   "display_name": "Python 3",
   "language": "python",
   "name": "python3"
  },
  "language_info": {
   "codemirror_mode": {
    "name": "ipython",
    "version": 3
   },
   "file_extension": ".py",
   "mimetype": "text/x-python",
   "name": "python",
   "nbconvert_exporter": "python",
   "pygments_lexer": "ipython3",
   "version": "3.11.13"
  },
  "papermill": {
   "default_parameters": {},
   "duration": 31.088326,
   "end_time": "2025-07-25T07:45:40.331364",
   "environment_variables": {},
   "exception": null,
   "input_path": "__notebook__.ipynb",
   "output_path": "__notebook__.ipynb",
   "parameters": {},
   "start_time": "2025-07-25T07:45:09.243038",
   "version": "2.6.0"
  }
 },
 "nbformat": 4,
 "nbformat_minor": 5
}
