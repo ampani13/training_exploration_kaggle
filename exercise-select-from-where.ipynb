{
 "cells": [
  {
   "cell_type": "markdown",
   "id": "91e14de5",
   "metadata": {
    "papermill": {
     "duration": 0.003569,
     "end_time": "2025-07-25T07:45:46.363065",
     "exception": false,
     "start_time": "2025-07-25T07:45:46.359496",
     "status": "completed"
    },
    "tags": []
   },
   "source": [
    "**This notebook is an exercise in the [SQL](https://www.kaggle.com/learn/intro-to-sql) course.  You can reference the tutorial at [this link](https://www.kaggle.com/dansbecker/select-from-where).**\n",
    "\n",
    "---\n"
   ]
  },
  {
   "cell_type": "markdown",
   "id": "7b08819d",
   "metadata": {
    "papermill": {
     "duration": 0.00275,
     "end_time": "2025-07-25T07:45:46.369158",
     "exception": false,
     "start_time": "2025-07-25T07:45:46.366408",
     "status": "completed"
    },
    "tags": []
   },
   "source": [
    "# Introduction\n",
    "\n",
    "Try writing some **SELECT** statements of your own to explore a large dataset of air pollution measurements.\n",
    "\n",
    "Run the cell below to set up the feedback system."
   ]
  },
  {
   "cell_type": "code",
   "execution_count": 1,
   "id": "512424a0",
   "metadata": {
    "execution": {
     "iopub.execute_input": "2025-07-25T07:45:46.376665Z",
     "iopub.status.busy": "2025-07-25T07:45:46.376260Z",
     "iopub.status.idle": "2025-07-25T07:46:50.348830Z",
     "shell.execute_reply": "2025-07-25T07:46:50.347705Z"
    },
    "papermill": {
     "duration": 63.981071,
     "end_time": "2025-07-25T07:46:50.353186",
     "exception": false,
     "start_time": "2025-07-25T07:45:46.372115",
     "status": "completed"
    },
    "tags": []
   },
   "outputs": [
    {
     "name": "stdout",
     "output_type": "stream",
     "text": [
      "Using Kaggle's public dataset BigQuery integration.\n"
     ]
    },
    {
     "name": "stderr",
     "output_type": "stream",
     "text": [
      "/usr/local/lib/python3.11/dist-packages/google/cloud/bigquery/table.py:1727: UserWarning: BigQuery Storage module not found, fetch data with the REST endpoint instead.\n",
      "  warnings.warn(\n"
     ]
    },
    {
     "name": "stdout",
     "output_type": "stream",
     "text": [
      "Setup Complete\n"
     ]
    }
   ],
   "source": [
    "# Set up feedback system\n",
    "from learntools.core import binder\n",
    "binder.bind(globals())\n",
    "from learntools.sql.ex2 import *\n",
    "print(\"Setup Complete\")"
   ]
  },
  {
   "cell_type": "markdown",
   "id": "fbc94fb4",
   "metadata": {
    "papermill": {
     "duration": 0.002913,
     "end_time": "2025-07-25T07:46:50.359365",
     "exception": false,
     "start_time": "2025-07-25T07:46:50.356452",
     "status": "completed"
    },
    "tags": []
   },
   "source": [
    "The code cell below fetches the `global_air_quality` table from the `openaq` dataset.  We also preview the first five rows of the table."
   ]
  },
  {
   "cell_type": "code",
   "execution_count": 2,
   "id": "3a6bd235",
   "metadata": {
    "execution": {
     "iopub.execute_input": "2025-07-25T07:46:50.366962Z",
     "iopub.status.busy": "2025-07-25T07:46:50.366442Z",
     "iopub.status.idle": "2025-07-25T07:46:51.317801Z",
     "shell.execute_reply": "2025-07-25T07:46:51.316818Z"
    },
    "papermill": {
     "duration": 0.9572,
     "end_time": "2025-07-25T07:46:51.319587",
     "exception": false,
     "start_time": "2025-07-25T07:46:50.362387",
     "status": "completed"
    },
    "tags": []
   },
   "outputs": [
    {
     "name": "stdout",
     "output_type": "stream",
     "text": [
      "Using Kaggle's public dataset BigQuery integration.\n"
     ]
    },
    {
     "data": {
      "text/html": [
       "<div>\n",
       "<style scoped>\n",
       "    .dataframe tbody tr th:only-of-type {\n",
       "        vertical-align: middle;\n",
       "    }\n",
       "\n",
       "    .dataframe tbody tr th {\n",
       "        vertical-align: top;\n",
       "    }\n",
       "\n",
       "    .dataframe thead th {\n",
       "        text-align: right;\n",
       "    }\n",
       "</style>\n",
       "<table border=\"1\" class=\"dataframe\">\n",
       "  <thead>\n",
       "    <tr style=\"text-align: right;\">\n",
       "      <th></th>\n",
       "      <th>location</th>\n",
       "      <th>city</th>\n",
       "      <th>country</th>\n",
       "      <th>pollutant</th>\n",
       "      <th>value</th>\n",
       "      <th>timestamp</th>\n",
       "      <th>unit</th>\n",
       "      <th>source_name</th>\n",
       "      <th>latitude</th>\n",
       "      <th>longitude</th>\n",
       "      <th>averaged_over_in_hours</th>\n",
       "      <th>location_geom</th>\n",
       "    </tr>\n",
       "  </thead>\n",
       "  <tbody>\n",
       "    <tr>\n",
       "      <th>0</th>\n",
       "      <td>Borówiec, ul. Drapałka</td>\n",
       "      <td>Borówiec</td>\n",
       "      <td>PL</td>\n",
       "      <td>bc</td>\n",
       "      <td>0.85217</td>\n",
       "      <td>2022-04-28 07:00:00+00:00</td>\n",
       "      <td>µg/m³</td>\n",
       "      <td>GIOS</td>\n",
       "      <td>1.0</td>\n",
       "      <td>52.276794</td>\n",
       "      <td>17.074114</td>\n",
       "      <td>POINT(52.276794 1)</td>\n",
       "    </tr>\n",
       "    <tr>\n",
       "      <th>1</th>\n",
       "      <td>Kraków, ul. Bulwarowa</td>\n",
       "      <td>Kraków</td>\n",
       "      <td>PL</td>\n",
       "      <td>bc</td>\n",
       "      <td>0.91284</td>\n",
       "      <td>2022-04-27 23:00:00+00:00</td>\n",
       "      <td>µg/m³</td>\n",
       "      <td>GIOS</td>\n",
       "      <td>1.0</td>\n",
       "      <td>50.069308</td>\n",
       "      <td>20.053492</td>\n",
       "      <td>POINT(50.069308 1)</td>\n",
       "    </tr>\n",
       "    <tr>\n",
       "      <th>2</th>\n",
       "      <td>Płock, ul. Reja</td>\n",
       "      <td>Płock</td>\n",
       "      <td>PL</td>\n",
       "      <td>bc</td>\n",
       "      <td>1.41000</td>\n",
       "      <td>2022-03-30 04:00:00+00:00</td>\n",
       "      <td>µg/m³</td>\n",
       "      <td>GIOS</td>\n",
       "      <td>1.0</td>\n",
       "      <td>52.550938</td>\n",
       "      <td>19.709791</td>\n",
       "      <td>POINT(52.550938 1)</td>\n",
       "    </tr>\n",
       "    <tr>\n",
       "      <th>3</th>\n",
       "      <td>Elbląg, ul. Bażyńskiego</td>\n",
       "      <td>Elbląg</td>\n",
       "      <td>PL</td>\n",
       "      <td>bc</td>\n",
       "      <td>0.33607</td>\n",
       "      <td>2022-05-03 13:00:00+00:00</td>\n",
       "      <td>µg/m³</td>\n",
       "      <td>GIOS</td>\n",
       "      <td>1.0</td>\n",
       "      <td>54.167847</td>\n",
       "      <td>19.410942</td>\n",
       "      <td>POINT(54.167847 1)</td>\n",
       "    </tr>\n",
       "    <tr>\n",
       "      <th>4</th>\n",
       "      <td>Piastów, ul. Pułaskiego</td>\n",
       "      <td>Piastów</td>\n",
       "      <td>PL</td>\n",
       "      <td>bc</td>\n",
       "      <td>0.51000</td>\n",
       "      <td>2022-05-11 05:00:00+00:00</td>\n",
       "      <td>µg/m³</td>\n",
       "      <td>GIOS</td>\n",
       "      <td>1.0</td>\n",
       "      <td>52.191728</td>\n",
       "      <td>20.837489</td>\n",
       "      <td>POINT(52.191728 1)</td>\n",
       "    </tr>\n",
       "  </tbody>\n",
       "</table>\n",
       "</div>"
      ],
      "text/plain": [
       "                  location      city country pollutant    value  \\\n",
       "0   Borówiec, ul. Drapałka  Borówiec      PL        bc  0.85217   \n",
       "1    Kraków, ul. Bulwarowa    Kraków      PL        bc  0.91284   \n",
       "2          Płock, ul. Reja     Płock      PL        bc  1.41000   \n",
       "3  Elbląg, ul. Bażyńskiego    Elbląg      PL        bc  0.33607   \n",
       "4  Piastów, ul. Pułaskiego   Piastów      PL        bc  0.51000   \n",
       "\n",
       "                  timestamp   unit source_name  latitude  longitude  \\\n",
       "0 2022-04-28 07:00:00+00:00  µg/m³        GIOS       1.0  52.276794   \n",
       "1 2022-04-27 23:00:00+00:00  µg/m³        GIOS       1.0  50.069308   \n",
       "2 2022-03-30 04:00:00+00:00  µg/m³        GIOS       1.0  52.550938   \n",
       "3 2022-05-03 13:00:00+00:00  µg/m³        GIOS       1.0  54.167847   \n",
       "4 2022-05-11 05:00:00+00:00  µg/m³        GIOS       1.0  52.191728   \n",
       "\n",
       "   averaged_over_in_hours       location_geom  \n",
       "0               17.074114  POINT(52.276794 1)  \n",
       "1               20.053492  POINT(50.069308 1)  \n",
       "2               19.709791  POINT(52.550938 1)  \n",
       "3               19.410942  POINT(54.167847 1)  \n",
       "4               20.837489  POINT(52.191728 1)  "
      ]
     },
     "execution_count": 2,
     "metadata": {},
     "output_type": "execute_result"
    }
   ],
   "source": [
    "from google.cloud import bigquery\n",
    "\n",
    "# Create a \"Client\" object\n",
    "client = bigquery.Client()\n",
    "\n",
    "# Construct a reference to the \"openaq\" dataset\n",
    "dataset_ref = client.dataset(\"openaq\", project=\"bigquery-public-data\")\n",
    "\n",
    "# API request - fetch the dataset\n",
    "dataset = client.get_dataset(dataset_ref)\n",
    "\n",
    "# Construct a reference to the \"global_air_quality\" table\n",
    "table_ref = dataset_ref.table(\"global_air_quality\")\n",
    "\n",
    "# API request - fetch the table\n",
    "table = client.get_table(table_ref)\n",
    "\n",
    "# Preview the first five lines of the \"global_air_quality\" table\n",
    "client.list_rows(table, max_results=5).to_dataframe()"
   ]
  },
  {
   "cell_type": "markdown",
   "id": "fee4a32c",
   "metadata": {
    "papermill": {
     "duration": 0.003317,
     "end_time": "2025-07-25T07:46:51.326679",
     "exception": false,
     "start_time": "2025-07-25T07:46:51.323362",
     "status": "completed"
    },
    "tags": []
   },
   "source": [
    "# Exercises\n",
    "\n",
    "### 1) Units of measurement\n",
    "\n",
    "Which countries have reported pollution levels in units of \"ppm\"?  In the code cell below, set `first_query` to an SQL query that pulls the appropriate entries from the `country` column.\n",
    "\n",
    "In case it's useful to see an example query, here's some code from the tutorial:\n",
    "\n",
    "```\n",
    "query = \"\"\"\n",
    "        SELECT city\n",
    "        FROM `bigquery-public-data.openaq.global_air_quality`\n",
    "        WHERE country = 'US'\n",
    "        \"\"\"\n",
    "```"
   ]
  },
  {
   "cell_type": "code",
   "execution_count": 3,
   "id": "2368d5e7",
   "metadata": {
    "execution": {
     "iopub.execute_input": "2025-07-25T07:46:51.334970Z",
     "iopub.status.busy": "2025-07-25T07:46:51.334602Z",
     "iopub.status.idle": "2025-07-25T07:47:11.455074Z",
     "shell.execute_reply": "2025-07-25T07:47:11.454008Z"
    },
    "papermill": {
     "duration": 20.126334,
     "end_time": "2025-07-25T07:47:11.456505",
     "exception": false,
     "start_time": "2025-07-25T07:46:51.330171",
     "status": "completed"
    },
    "tags": []
   },
   "outputs": [
    {
     "name": "stderr",
     "output_type": "stream",
     "text": [
      "/usr/local/lib/python3.11/dist-packages/google/cloud/bigquery/table.py:1727: UserWarning: BigQuery Storage module not found, fetch data with the REST endpoint instead.\n",
      "  warnings.warn(\n"
     ]
    },
    {
     "name": "stdout",
     "output_type": "stream",
     "text": [
      "  country\n",
      "0      IL\n",
      "1      IL\n",
      "2      AR\n",
      "3      IL\n",
      "4      AR\n",
      "You got the right countries. Nice job! Some countries showed up many times in the results. To get each country only once you can run `SELECT DISTINCT country ...`. The DISTINCT keyword ensures each column shows up once, which you'll want in some cases.\n"
     ]
    },
    {
     "data": {
      "application/javascript": [
       "parent.postMessage({\"jupyterEvent\": \"custom.exercise_interaction\", \"data\": {\"outcomeType\": 1, \"valueTowardsCompletion\": 0.5, \"interactionType\": 1, \"questionType\": 2, \"questionId\": \"1_WhichCountries\", \"learnToolsVersion\": \"0.3.5\", \"failureMessage\": \"\", \"exceptionClass\": \"\", \"trace\": \"\"}}, \"*\")"
      ],
      "text/plain": [
       "<IPython.core.display.Javascript object>"
      ]
     },
     "metadata": {},
     "output_type": "display_data"
    },
    {
     "data": {
      "text/markdown": [
       "<span style=\"color:#33cc33\">Correct</span>"
      ],
      "text/plain": [
       "Correct"
      ]
     },
     "metadata": {},
     "output_type": "display_data"
    }
   ],
   "source": [
    "# Query to select countries with units of \"ppm\"\n",
    "first_query = \"\"\"\n",
    "                SELECT country\n",
    "                FROM `bigquery-public-data.openaq.global_air_quality`\n",
    "                WHERE unit = 'ppm'\n",
    "            \"\"\"\n",
    "\n",
    "# Set up the query (cancel the query if it would use too much of \n",
    "# your quota, with the limit set to 10 GB)\n",
    "safe_config = bigquery.QueryJobConfig(maximum_bytes_billed=10**10)\n",
    "first_query_job = client.query(first_query, job_config=safe_config)\n",
    "\n",
    "# API request - run the query, and return a pandas DataFrame\n",
    "first_results = first_query_job.to_dataframe()\n",
    "\n",
    "# View top few rows of results\n",
    "print(first_results.head())\n",
    "\n",
    "# Check your answer\n",
    "q_1.check()"
   ]
  },
  {
   "cell_type": "markdown",
   "id": "fc94ad9b",
   "metadata": {
    "papermill": {
     "duration": 0.003779,
     "end_time": "2025-07-25T07:47:11.464339",
     "exception": false,
     "start_time": "2025-07-25T07:47:11.460560",
     "status": "completed"
    },
    "tags": []
   },
   "source": [
    "For the solution, uncomment the line below."
   ]
  },
  {
   "cell_type": "code",
   "execution_count": 4,
   "id": "578704f3",
   "metadata": {
    "execution": {
     "iopub.execute_input": "2025-07-25T07:47:11.474798Z",
     "iopub.status.busy": "2025-07-25T07:47:11.473616Z",
     "iopub.status.idle": "2025-07-25T07:47:11.478714Z",
     "shell.execute_reply": "2025-07-25T07:47:11.477684Z"
    },
    "papermill": {
     "duration": 0.012142,
     "end_time": "2025-07-25T07:47:11.480580",
     "exception": false,
     "start_time": "2025-07-25T07:47:11.468438",
     "status": "completed"
    },
    "tags": []
   },
   "outputs": [],
   "source": [
    "#q_1.solution()"
   ]
  },
  {
   "cell_type": "markdown",
   "id": "f97f21c1",
   "metadata": {
    "papermill": {
     "duration": 0.00369,
     "end_time": "2025-07-25T07:47:11.490262",
     "exception": false,
     "start_time": "2025-07-25T07:47:11.486572",
     "status": "completed"
    },
    "tags": []
   },
   "source": [
    "### 2) High air quality\n",
    "\n",
    "Which pollution levels were reported to be exactly 0?  \n",
    "- Set `zero_pollution_query` to select **all columns** of the rows where the `value` column is 0.\n",
    "- Set `zero_pollution_results` to a pandas DataFrame containing the query results."
   ]
  },
  {
   "cell_type": "code",
   "execution_count": 5,
   "id": "25227b27",
   "metadata": {
    "execution": {
     "iopub.execute_input": "2025-07-25T07:47:11.499211Z",
     "iopub.status.busy": "2025-07-25T07:47:11.498870Z",
     "iopub.status.idle": "2025-07-25T07:47:34.752492Z",
     "shell.execute_reply": "2025-07-25T07:47:34.751623Z"
    },
    "papermill": {
     "duration": 23.260199,
     "end_time": "2025-07-25T07:47:34.754206",
     "exception": false,
     "start_time": "2025-07-25T07:47:11.494007",
     "status": "completed"
    },
    "tags": []
   },
   "outputs": [
    {
     "name": "stderr",
     "output_type": "stream",
     "text": [
      "/usr/local/lib/python3.11/dist-packages/google/cloud/bigquery/table.py:1727: UserWarning: BigQuery Storage module not found, fetch data with the REST endpoint instead.\n",
      "  warnings.warn(\n"
     ]
    },
    {
     "name": "stdout",
     "output_type": "stream",
     "text": [
      "                       location          city country pollutant  value  \\\n",
      "0    Żary, ul. Szymanowskiego 8          Żary      PL        bc    0.0   \n",
      "1       Starachowice, ul. Złota  Starachowice      PL        bc    0.0   \n",
      "2    Żary, ul. Szymanowskiego 8          Żary      PL        bc    0.0   \n",
      "3  Koszalin, ul. Armii Krajowej      Koszalin      PL        bc    0.0   \n",
      "4       Starachowice, ul. Złota  Starachowice      PL        bc    0.0   \n",
      "\n",
      "                  timestamp   unit source_name  latitude  longitude  \\\n",
      "0 2022-05-18 15:00:00+00:00  µg/m³        GIOS       1.0  51.642656   \n",
      "1 2022-05-07 11:00:00+00:00  µg/m³        GIOS       1.0  51.050611   \n",
      "2 2022-05-04 16:00:00+00:00  µg/m³        GIOS       1.0  51.642656   \n",
      "3 2022-05-17 14:00:00+00:00  µg/m³        GIOS       1.0  54.193986   \n",
      "4 2022-05-15 14:00:00+00:00  µg/m³        GIOS       1.0  51.050611   \n",
      "\n",
      "   averaged_over_in_hours       location_geom  \n",
      "0               15.127808  POINT(51.642656 1)  \n",
      "1               21.084175  POINT(51.050611 1)  \n",
      "2               15.127808  POINT(51.642656 1)  \n",
      "3               16.172544  POINT(54.193986 1)  \n",
      "4               21.084175  POINT(51.050611 1)  \n"
     ]
    },
    {
     "data": {
      "application/javascript": [
       "parent.postMessage({\"jupyterEvent\": \"custom.exercise_interaction\", \"data\": {\"outcomeType\": 1, \"valueTowardsCompletion\": 0.5, \"interactionType\": 1, \"questionType\": 2, \"questionId\": \"2_ZeroPollution\", \"learnToolsVersion\": \"0.3.5\", \"failureMessage\": \"\", \"exceptionClass\": \"\", \"trace\": \"\"}}, \"*\")"
      ],
      "text/plain": [
       "<IPython.core.display.Javascript object>"
      ]
     },
     "metadata": {},
     "output_type": "display_data"
    },
    {
     "data": {
      "text/markdown": [
       "<span style=\"color:#33cc33\">Correct</span>"
      ],
      "text/plain": [
       "Correct"
      ]
     },
     "metadata": {},
     "output_type": "display_data"
    }
   ],
   "source": [
    "# Query to select all columns where pollution levels are exactly 0\n",
    "zero_pollution_query = \"\"\"\n",
    "                        SELECT *\n",
    "                        FROM `bigquery-public-data.openaq.global_air_quality`\n",
    "                        WHERE value = 0\n",
    "                        \"\"\"\n",
    "\n",
    "# Set up the query\n",
    "safe_config = bigquery.QueryJobConfig(maximum_bytes_billed=10**10)\n",
    "query_job = client.query(zero_pollution_query, job_config=safe_config)\n",
    "\n",
    "# API request - run the query and return a pandas DataFrame\n",
    "zero_pollution_results = query_job.to_dataframe()\n",
    "\n",
    "print(zero_pollution_results.head())\n",
    "\n",
    "# Check your answer\n",
    "q_2.check()"
   ]
  },
  {
   "cell_type": "markdown",
   "id": "adc13668",
   "metadata": {
    "papermill": {
     "duration": 0.003997,
     "end_time": "2025-07-25T07:47:34.762823",
     "exception": false,
     "start_time": "2025-07-25T07:47:34.758826",
     "status": "completed"
    },
    "tags": []
   },
   "source": [
    "For the solution, uncomment the line below."
   ]
  },
  {
   "cell_type": "code",
   "execution_count": 6,
   "id": "233a1ab1",
   "metadata": {
    "execution": {
     "iopub.execute_input": "2025-07-25T07:47:34.772966Z",
     "iopub.status.busy": "2025-07-25T07:47:34.772547Z",
     "iopub.status.idle": "2025-07-25T07:47:34.776758Z",
     "shell.execute_reply": "2025-07-25T07:47:34.775831Z"
    },
    "papermill": {
     "duration": 0.011282,
     "end_time": "2025-07-25T07:47:34.778650",
     "exception": false,
     "start_time": "2025-07-25T07:47:34.767368",
     "status": "completed"
    },
    "tags": []
   },
   "outputs": [],
   "source": [
    "#q_2.solution()"
   ]
  },
  {
   "cell_type": "markdown",
   "id": "78656660",
   "metadata": {
    "papermill": {
     "duration": 0.003762,
     "end_time": "2025-07-25T07:47:34.787133",
     "exception": false,
     "start_time": "2025-07-25T07:47:34.783371",
     "status": "completed"
    },
    "tags": []
   },
   "source": [
    "That query wasn't too complicated, and it got the data you want. But these **SELECT** queries don't organizing data in a way that answers the most interesting questions. For that, we'll need the **GROUP BY** command. \n",
    "\n",
    "If you know how to use [`groupby()`](https://pandas.pydata.org/pandas-docs/stable/reference/api/pandas.DataFrame.groupby.html) in pandas, this is similar. But BigQuery works quickly with far larger datasets.\n",
    "\n",
    "Fortunately, that's next."
   ]
  },
  {
   "cell_type": "markdown",
   "id": "d3398699",
   "metadata": {
    "papermill": {
     "duration": 0.004169,
     "end_time": "2025-07-25T07:47:34.795303",
     "exception": false,
     "start_time": "2025-07-25T07:47:34.791134",
     "status": "completed"
    },
    "tags": []
   },
   "source": [
    "# Keep going\n",
    "**[GROUP BY](https://www.kaggle.com/dansbecker/group-by-having-count)** clauses and their extensions give you the power to pull interesting statistics out of data, rather than receiving it in just its raw format."
   ]
  },
  {
   "cell_type": "markdown",
   "id": "197d7505",
   "metadata": {
    "papermill": {
     "duration": 0.003745,
     "end_time": "2025-07-25T07:47:34.803070",
     "exception": false,
     "start_time": "2025-07-25T07:47:34.799325",
     "status": "completed"
    },
    "tags": []
   },
   "source": [
    "---\n",
    "\n",
    "\n",
    "\n",
    "\n",
    "*Have questions or comments? Visit the [course discussion forum](https://www.kaggle.com/learn/intro-to-sql/discussion) to chat with other learners.*"
   ]
  }
 ],
 "metadata": {
  "kaggle": {
   "accelerator": "none",
   "dataSources": [
    {
     "datasetId": 5836,
     "sourceId": 8677,
     "sourceType": "datasetVersion"
    },
    {
     "datasetId": 6057,
     "sourceId": 285982,
     "sourceType": "datasetVersion"
    }
   ],
   "isGpuEnabled": false,
   "isInternetEnabled": false,
   "language": "python",
   "sourceType": "notebook"
  },
  "kernelspec": {
   "display_name": "Python 3",
   "language": "python",
   "name": "python3"
  },
  "language_info": {
   "codemirror_mode": {
    "name": "ipython",
    "version": 3
   },
   "file_extension": ".py",
   "mimetype": "text/x-python",
   "name": "python",
   "nbconvert_exporter": "python",
   "pygments_lexer": "ipython3",
   "version": "3.11.13"
  },
  "papermill": {
   "default_parameters": {},
   "duration": 116.333771,
   "end_time": "2025-07-25T07:47:37.447247",
   "environment_variables": {},
   "exception": null,
   "input_path": "__notebook__.ipynb",
   "output_path": "__notebook__.ipynb",
   "parameters": {},
   "start_time": "2025-07-25T07:45:41.113476",
   "version": "2.6.0"
  }
 },
 "nbformat": 4,
 "nbformat_minor": 5
}
